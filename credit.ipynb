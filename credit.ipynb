{
 "metadata": {
  "language_info": {
   "codemirror_mode": {
    "name": "ipython",
    "version": 3
   },
   "file_extension": ".py",
   "mimetype": "text/x-python",
   "name": "python",
   "nbconvert_exporter": "python",
   "pygments_lexer": "ipython3",
   "version": "3.7.9-final"
  },
  "orig_nbformat": 2,
  "kernelspec": {
   "name": "python3",
   "display_name": "Python 3"
  }
 },
 "nbformat": 4,
 "nbformat_minor": 2,
 "cells": [
  {
   "cell_type": "code",
   "execution_count": 22,
   "metadata": {},
   "outputs": [],
   "source": [
    "#Load the librarys\n",
    "import pandas as pd \n",
    "import numpy as np \n",
    "import seaborn as sns \n",
    "import matplotlib.pyplot as plt \n",
    "from sklearn.preprocessing import StandardScaler\n",
    "from sklearn.cluster import KMeans, AffinityPropagation\n",
    "import warnings\n",
    "warnings.filterwarnings(\"ignore\")\n",
    "\n",
    "#Importing the data\n",
    "data = pd.read_csv(\"german_credit_data.csv\",index_col=0)"
   ]
  },
  {
   "cell_type": "code",
   "execution_count": 23,
   "metadata": {},
   "outputs": [
    {
     "output_type": "stream",
     "name": "stdout",
     "text": [
      "<class 'pandas.core.frame.DataFrame'>\nInt64Index: 1000 entries, 0 to 999\nData columns (total 9 columns):\n #   Column            Non-Null Count  Dtype \n---  ------            --------------  ----- \n 0   Age               1000 non-null   int64 \n 1   Sex               1000 non-null   object\n 2   Job               1000 non-null   int64 \n 3   Housing           1000 non-null   object\n 4   Saving accounts   817 non-null    object\n 5   Checking account  606 non-null    object\n 6   Credit amount     1000 non-null   int64 \n 7   Duration          1000 non-null   int64 \n 8   Purpose           1000 non-null   object\ndtypes: int64(4), object(5)\nmemory usage: 78.1+ KB\n"
     ]
    }
   ],
   "source": [
    "#Searching for Missings,type of data and also known the shape of data\n",
    "data.info()"
   ]
  },
  {
   "cell_type": "code",
   "execution_count": 24,
   "metadata": {},
   "outputs": [
    {
     "output_type": "execute_result",
     "data": {
      "text/plain": [
       "Age                  53\n",
       "Sex                   2\n",
       "Job                   4\n",
       "Housing               3\n",
       "Saving accounts       4\n",
       "Checking account      3\n",
       "Credit amount       921\n",
       "Duration             33\n",
       "Purpose               8\n",
       "dtype: int64"
      ]
     },
     "metadata": {},
     "execution_count": 24
    }
   ],
   "source": [
    "#Looking unique values\n",
    "data.nunique()\n"
   ]
  },
  {
   "cell_type": "code",
   "execution_count": 25,
   "metadata": {},
   "outputs": [
    {
     "output_type": "execute_result",
     "data": {
      "text/plain": [
       "   Age     Sex  Job Housing Saving accounts Checking account  Credit amount  \\\n",
       "0   67    male    2     own             NaN           little           1169   \n",
       "1   22  female    2     own          little         moderate           5951   \n",
       "2   49    male    1     own          little              NaN           2096   \n",
       "3   45    male    2    free          little           little           7882   \n",
       "4   53    male    2    free          little           little           4870   \n",
       "\n",
       "   Duration              Purpose  \n",
       "0         6             radio/TV  \n",
       "1        48             radio/TV  \n",
       "2        12            education  \n",
       "3        42  furniture/equipment  \n",
       "4        24                  car  "
      ],
      "text/html": "<div>\n<style scoped>\n    .dataframe tbody tr th:only-of-type {\n        vertical-align: middle;\n    }\n\n    .dataframe tbody tr th {\n        vertical-align: top;\n    }\n\n    .dataframe thead th {\n        text-align: right;\n    }\n</style>\n<table border=\"1\" class=\"dataframe\">\n  <thead>\n    <tr style=\"text-align: right;\">\n      <th></th>\n      <th>Age</th>\n      <th>Sex</th>\n      <th>Job</th>\n      <th>Housing</th>\n      <th>Saving accounts</th>\n      <th>Checking account</th>\n      <th>Credit amount</th>\n      <th>Duration</th>\n      <th>Purpose</th>\n    </tr>\n  </thead>\n  <tbody>\n    <tr>\n      <th>0</th>\n      <td>67</td>\n      <td>male</td>\n      <td>2</td>\n      <td>own</td>\n      <td>NaN</td>\n      <td>little</td>\n      <td>1169</td>\n      <td>6</td>\n      <td>radio/TV</td>\n    </tr>\n    <tr>\n      <th>1</th>\n      <td>22</td>\n      <td>female</td>\n      <td>2</td>\n      <td>own</td>\n      <td>little</td>\n      <td>moderate</td>\n      <td>5951</td>\n      <td>48</td>\n      <td>radio/TV</td>\n    </tr>\n    <tr>\n      <th>2</th>\n      <td>49</td>\n      <td>male</td>\n      <td>1</td>\n      <td>own</td>\n      <td>little</td>\n      <td>NaN</td>\n      <td>2096</td>\n      <td>12</td>\n      <td>education</td>\n    </tr>\n    <tr>\n      <th>3</th>\n      <td>45</td>\n      <td>male</td>\n      <td>2</td>\n      <td>free</td>\n      <td>little</td>\n      <td>little</td>\n      <td>7882</td>\n      <td>42</td>\n      <td>furniture/equipment</td>\n    </tr>\n    <tr>\n      <th>4</th>\n      <td>53</td>\n      <td>male</td>\n      <td>2</td>\n      <td>free</td>\n      <td>little</td>\n      <td>little</td>\n      <td>4870</td>\n      <td>24</td>\n      <td>car</td>\n    </tr>\n  </tbody>\n</table>\n</div>"
     },
     "metadata": {},
     "execution_count": 25
    }
   ],
   "source": [
    "#Looking the data\n",
    "data.head()"
   ]
  },
  {
   "cell_type": "code",
   "execution_count": 26,
   "metadata": {},
   "outputs": [
    {
     "output_type": "stream",
     "name": "stdout",
     "text": [
      "Database has 1000 observations (customers) and 8 columns (attributes).\nMissing values in each column:\nSex                   0\nJob                   0\nHousing               0\nSaving accounts     183\nChecking account    394\nCredit amount         0\nDuration              0\nPurpose               0\ndtype: int64\nColumns data types:\nSex                 object\nJob                  int64\nHousing             object\nSaving accounts     object\nChecking account    object\nCredit amount        int64\nDuration             int64\nPurpose             object\ndtype: object\n"
     ]
    }
   ],
   "source": [
    "data.drop(data.columns[0], inplace=True, axis=1)\n",
    "print(\"Database has {} observations (customers) and {} columns (attributes).\".format(data.shape[0],data.shape[1]))\n",
    "print(\"Missing values in each column:\\n{}\".format(data.isnull().sum()))\n",
    "print(\"Columns data types:\\n{}\".format(data.dtypes))"
   ]
  },
  {
   "cell_type": "code",
   "execution_count": 27,
   "metadata": {},
   "outputs": [
    {
     "output_type": "stream",
     "name": "stdout",
     "text": [
      "Number of unique values:\nSex                   2\nJob                   4\nHousing               3\nSaving accounts       4\nChecking account      3\nCredit amount       921\nDuration             33\nPurpose               8\ndtype: int64\n"
     ]
    }
   ],
   "source": [
    "n_unique = data.nunique()\n",
    "print(\"Number of unique values:\\n{}\".format(n_unique))"
   ]
  },
  {
   "cell_type": "code",
   "execution_count": 28,
   "metadata": {},
   "outputs": [
    {
     "output_type": "stream",
     "name": "stdout",
     "text": [
      "Unique values in each categorical column:\nSex : ['male' 'female']\nHousing : ['own' 'free' 'rent']\nSaving accounts : [nan 'little' 'quite rich' 'rich' 'moderate']\nChecking account : ['little' 'moderate' nan 'rich']\nPurpose : ['radio/TV' 'education' 'furniture/equipment' 'car' 'business'\n 'domestic appliances' 'repairs' 'vacation/others']\n"
     ]
    }
   ],
   "source": [
    "print(\"Unique values in each categorical column:\")\n",
    "for col in data.select_dtypes(include=[object]):\n",
    "    print(col,\":\", data[col].unique())"
   ]
  },
  {
   "cell_type": "code",
   "execution_count": 29,
   "metadata": {},
   "outputs": [],
   "source": [
    "def scatters(data, h=None, pal=None):\n",
    "    fig, (ax1, ax2, ax3) = plt.subplots(3,1, figsize=(8,8))\n",
    "    sns.scatterplot(x=\"Credit amount\",y=\"Duration\", hue=h, palette=pal, data=data, ax=ax1)\n",
    "    sns.scatterplot(x=\"Age\",y=\"Credit amount\", hue=h, palette=pal, data=data, ax=ax2)\n",
    "    sns.scatterplot(x=\"Age\",y=\"Duration\", hue=h, palette=pal, data=data, ax=ax3)\n",
    "    plt.tight_layout()"
   ]
  },
  {
   "cell_type": "code",
   "execution_count": null,
   "metadata": {},
   "outputs": [],
   "source": []
  }
 ]
}